{
  "cells": [
    {
      "cell_type": "markdown",
      "metadata": {
        "id": "view-in-github",
        "colab_type": "text"
      },
      "source": [
        "<a href=\"https://colab.research.google.com/github/Madaa73/SMS_spam-ham/blob/main/Copia_de_fcc_sms_text_classification.ipynb\" target=\"_parent\"><img src=\"https://colab.research.google.com/assets/colab-badge.svg\" alt=\"Open In Colab\"/></a>"
      ]
    },
    {
      "cell_type": "code",
      "execution_count": null,
      "metadata": {
        "id": "8RZOuS9LWQvv",
        "collapsed": true
      },
      "outputs": [],
      "source": [
        "# import libraries\n",
        "try:\n",
        "  # %tensorflow_version only exists in Colab.\n",
        "  !pip install tf-nightly\n",
        "except Exception:\n",
        "  pass\n",
        "import tensorflow as tf\n",
        "import pandas as pd\n",
        "from tensorflow import keras\n",
        "!pip install tensorflow-datasets\n",
        "import tensorflow_datasets as tfds\n",
        "import numpy as np\n",
        "import matplotlib.pyplot as plt\n",
        "\n",
        "print(tf.__version__)"
      ]
    },
    {
      "cell_type": "code",
      "execution_count": null,
      "metadata": {
        "id": "lMHwYXHXCar3",
        "collapsed": true
      },
      "outputs": [],
      "source": [
        "# get data files\n",
        "!wget https://cdn.freecodecamp.org/project-data/sms/train-data.tsv\n",
        "!wget https://cdn.freecodecamp.org/project-data/sms/valid-data.tsv\n",
        "\n",
        "train_file_path = \"train-data.tsv\"\n",
        "test_file_path = \"valid-data.tsv\""
      ]
    },
    {
      "cell_type": "code",
      "source": [
        "# Cargar el conjunto de datos de entrenamiento y prueba\n",
        "train_df = pd.read_csv(train_file_path, sep='\\t', header=None, names=[\"label\", \"message\"])\n",
        "test_df = pd.read_csv(test_file_path, sep='\\t', header=None, names=[\"label\", \"message\"])\n"
      ],
      "metadata": {
        "collapsed": true,
        "id": "k4NcWf5Updj0"
      },
      "execution_count": null,
      "outputs": []
    },
    {
      "cell_type": "code",
      "source": [
        "# Cargar los datos usando pandas\n",
        "train_df = pd.read_csv(train_file_path, sep='\\t', header=None, names=['label','message'])\n",
        "test_df = pd.read_csv(test_file_path, sep='\\t', header=None, names=['label','message'])\n",
        "\n",
        "# Veamos algunas filas para confirmar la carga\n",
        "print(\"Datos de entrenamiento:\")\n",
        "print(train_df.head())\n",
        "print(\"\\nDatos de validación:\")\n",
        "print(test_df.head())\n",
        "\n",
        "# Mapear las etiquetas a números: 0 para 'ham', 1 para 'spam'\n",
        "label_mapping = {'ham': 0, 'spam': 1}\n",
        "train_df['label_num'] = train_df['label'].map(label_mapping)\n",
        "test_df['label_num'] = test_df['label'].map(label_mapping)\n",
        "\n",
        "# Extraer los mensajes y las etiquetas\n",
        "X_train = train_df['message'].values\n",
        "y_train = train_df['label_num'].values\n",
        "\n",
        "X_test = test_df['message'].values\n",
        "y_test = test_df['label_num'].values\n",
        "\n",
        "# Preprocesamiento del texto: tokenización y padding.\n",
        "# Definir parámetros para el tokenizador\n",
        "max_words = 10000   # máximo número de palabras a tener en cuenta\n",
        "oov_token = \"<OOV>\" # token para palabras fuera del vocabulario\n",
        "\n",
        "tokenizer = keras.preprocessing.text.Tokenizer(num_words=max_words, oov_token=oov_token)\n",
        "tokenizer.fit_on_texts(X_train)  # Entrena el tokenizador en los mensajes de entrenamiento\n",
        "\n",
        "# Convertir textos a secuencias de enteros\n",
        "train_sequences = tokenizer.texts_to_sequences(X_train)\n",
        "test_sequences = tokenizer.texts_to_sequences(X_test)\n",
        "\n",
        "# Definir una longitud máxima para los mensajes. Por ejemplo, podemos usar 50 tokens.\n",
        "max_length = 50\n",
        "\n",
        "# Aplicar padding a las secuencias para que tengan la misma longitud\n",
        "train_padded = keras.preprocessing.sequence.pad_sequences(train_sequences, maxlen=max_length, padding='post', truncating='post')\n",
        "test_padded = keras.preprocessing.sequence.pad_sequences(test_sequences, maxlen=max_length, padding='post', truncating='post')\n",
        "\n",
        "# Mostrar forma de los datos preprocesados\n",
        "print(\"\\nForma de train_padded:\", train_padded.shape)\n",
        "print(\"Forma de test_padded:\", test_padded.shape)\n"
      ],
      "metadata": {
        "collapsed": true,
        "id": "oJRNn3wWqGFB"
      },
      "execution_count": null,
      "outputs": []
    },
    {
      "cell_type": "code",
      "source": [
        "# Definir dimensiones para la capa de embedding\n",
        "embedding_dim = 16\n",
        "\n",
        "# Construcción del modelo MLP\n",
        "model = keras.Sequential([\n",
        "    # Capa de embedding para transformar índices en vectores densos\n",
        "    keras.layers.Embedding(input_dim=max_words, output_dim=embedding_dim, input_length=max_length),\n",
        "    # Agrupación global para aplanar la secuencia (opción alternativa es Flatten, pero GlobalAveragePooling1D reduce la dimensionalidad)\n",
        "    keras.layers.GlobalAveragePooling1D(),\n",
        "    # Capa oculta densa con activación ReLU\n",
        "    keras.layers.Dense(24, activation='relu'),\n",
        "    # Capa de salida con una neurona y activación sigmoid para predecir probabilidad\n",
        "    keras.layers.Dense(1, activation='sigmoid')\n",
        "])\n",
        "\n",
        "# Compilar el modelo con función de pérdida y optimizador adecuados para clasificación binaria\n",
        "model.compile(loss='binary_crossentropy', optimizer='adam', metrics=['accuracy'])\n",
        "model.build(input_shape=(None, max_length))\n",
        "model.summary()\n",
        "\n"
      ],
      "metadata": {
        "id": "yHfPLbkjqYsz"
      },
      "execution_count": null,
      "outputs": []
    },
    {
      "cell_type": "code",
      "source": [
        "# Definir el número de épocas para entrenar\n",
        "num_epochs = 15\n",
        "\n",
        "# Entrenar el modelo utilizando el conjunto de entrenamiento y validándolo con el conjunto de validación\n",
        "history = model.fit(train_padded, y_train,\n",
        "                    epochs=num_epochs,\n",
        "                    validation_data=(test_padded, y_test),\n",
        "                    verbose=2)\n"
      ],
      "metadata": {
        "id": "FKLca7PrDQ7n"
      },
      "execution_count": null,
      "outputs": []
    },
    {
      "cell_type": "code",
      "source": [
        "# function to predict messages based on model\n",
        "# (should return list containing prediction and label, ex. [0.008318834938108921, 'ham'])\n",
        "def predict_message(pred_text):\n",
        "    # Convertir el mensaje a secuencia usando el tokenizador entrenado\n",
        "    sequence = tokenizer.texts_to_sequences([pred_text])\n",
        "    # Aplicar padding a la secuencia para que tenga la misma longitud\n",
        "    padded = keras.preprocessing.sequence.pad_sequences(sequence, maxlen=max_length, padding='post', truncating='post')\n",
        "    # Realizar la predicción: la salida es un array, extraemos el primer valor\n",
        "    prob = model.predict(padded)[0][0]\n",
        "    # Definir la etiqueta: si la probabilidad es menor a 0.5, es \"ham\"; de lo contrario, \"spam\"\n",
        "    label = \"ham\" if prob < 0.5 else \"spam\"\n",
        "    # Retornar la probabilidad y la etiqueta en una lista\n",
        "    return [prob, label]\n"
      ],
      "metadata": {
        "id": "Uevv2WHoOYY8"
      },
      "execution_count": null,
      "outputs": []
    },
    {
      "cell_type": "code",
      "execution_count": null,
      "metadata": {
        "id": "Dxotov85SjsC"
      },
      "outputs": [],
      "source": [
        "# Run this cell to test your function and model. Do not modify contents.\n",
        "def test_predictions():\n",
        "  test_messages = [\"how are you doing today\",\n",
        "                   \"sale today! to stop texts call 98912460324\",\n",
        "                   \"i dont want to go. can we try it a different day? available sat\",\n",
        "                   \"our new mobile video service is live. just install on your phone to start watching.\",\n",
        "                   \"you have won £1000 cash! call to claim your prize.\",\n",
        "                   \"i'll bring it tomorrow. don't forget the milk.\",\n",
        "                   \"wow, is your arm alright. that happened to me one time too\"\n",
        "                  ]\n",
        "\n",
        "  test_answers = [\"ham\", \"spam\", \"ham\", \"spam\", \"spam\", \"ham\", \"ham\"]\n",
        "  passed = True\n",
        "\n",
        "  for msg, ans in zip(test_messages, test_answers):\n",
        "    prediction = predict_message(msg)\n",
        "\n",
        "    if prediction[1] != ans:\n",
        "      passed = False\n",
        "\n",
        "  if passed:\n",
        "    print(\"You passed the challenge. Great job!\")\n",
        "  else:\n",
        "    print(\"You haven't passed yet. Keep trying.\")\n",
        "\n",
        "test_predictions()\n"
      ]
    }
  ],
  "metadata": {
    "colab": {
      "private_outputs": true,
      "provenance": [],
      "include_colab_link": true
    },
    "kernelspec": {
      "display_name": "Python 3",
      "name": "python3"
    },
    "language_info": {}
  },
  "nbformat": 4,
  "nbformat_minor": 0
}